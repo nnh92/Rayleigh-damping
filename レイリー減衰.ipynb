{
  "nbformat": 4,
  "nbformat_minor": 0,
  "metadata": {
    "colab": {
      "provenance": [],
      "authorship_tag": "ABX9TyOMfb/SdfwJ0wtCRZFHjdH5",
      "include_colab_link": true
    },
    "kernelspec": {
      "name": "python3",
      "display_name": "Python 3"
    },
    "language_info": {
      "name": "python"
    }
  },
  "cells": [
    {
      "cell_type": "markdown",
      "metadata": {
        "id": "view-in-github",
        "colab_type": "text"
      },
      "source": [
        "<a href=\"https://colab.research.google.com/github/nnh92/Rayleigh-damping/blob/main/%E3%83%AC%E3%82%A4%E3%83%AA%E3%83%BC%E6%B8%9B%E8%A1%B0.ipynb\" target=\"_parent\"><img src=\"https://colab.research.google.com/assets/colab-badge.svg\" alt=\"Open In Colab\"/></a>"
      ]
    },
    {
      "cell_type": "code",
      "execution_count": 8,
      "metadata": {
        "colab": {
          "base_uri": "https://localhost:8080/",
          "height": 306
        },
        "id": "ik7ScSzmaJe_",
        "outputId": "1ef938ca-a5f2-443b-9160-899e70ad0f6b"
      },
      "outputs": [
        {
          "output_type": "stream",
          "name": "stdout",
          "text": [
            "100.53473520308651 -9.550251610674787e-07\n"
          ]
        },
        {
          "output_type": "display_data",
          "data": {
            "text/plain": [
              "<Figure size 432x288 with 1 Axes>"
            ],
            "image/png": "[encoded data removed]"
          },
          "metadata": {
            "needs_background": "light"
          }
        }
      ],
      "source": [
        "import numpy as np\n",
        "from matplotlib import pyplot as plt\n",
        "\n",
        "# Rayleigh dampingのパラメータを決定する関数\n",
        "def generate_rayleigh_damping(w1, w2, zeta1, zeta2):\n",
        "    alpha = (2 * w1 * w2 * (zeta2 * w1 - zeta1 * w2)) / (w1 ** 2 - w2 ** 2)\n",
        "    beta = (2 * (zeta1 * w1 - zeta2 * w2)) / (w1 ** 2 - w2 ** 2)\n",
        "    return alpha, beta\n",
        "\n",
        "# Rayleigh dampingを描画する関数\n",
        "def check_rayleigh_damping(alpha, beta, w):\n",
        "    zeta = (1 / 2) * ((alpha / w) + (beta * w))\n",
        "    alpha_only = (1 / 2) * alpha / w\n",
        "    beta_only = (1 / 2) * beta * w\n",
        "\n",
        "    # ここからグラフ描画-------------------------------------\n",
        "    # フォントの種類とサイズを設定する。\n",
        "    plt.rcParams['font.size'] = 14\n",
        "    plt.rcParams['font.family'] = 'Times New Roman'\n",
        "\n",
        "    # 目盛を内側にする。\n",
        "    plt.rcParams['xtick.direction'] = 'in'\n",
        "    plt.rcParams['ytick.direction'] = 'in'\n",
        "\n",
        "    # グラフの上下左右に目盛線を付ける。\n",
        "    fig = plt.figure()\n",
        "\n",
        "    ax1 = fig.add_subplot(111)\n",
        "    ax1.yaxis.set_ticks_position('both')\n",
        "    ax1.xaxis.set_ticks_position('both')\n",
        "\n",
        "    # 軸のラベルを設定する。\n",
        "    ax1.set_xlabel('$\\ \\omega$')\n",
        "    ax1.set_ylabel('$\\ \\zeta$')\n",
        "\n",
        "    # スケールの設定をする。\n",
        "    ax1.set_xlim(0, 1000)\n",
        "\n",
        "    # データプロットの準備とともに、ラベルと線の太さ、凡例の設置を行う。\n",
        "    ax1.plot(w, zeta, label='Rayleigh damping', lw=1, color='black')\n",
        "    ax1.plot(w, alpha_only, label='alpha damping', lw=1, color='black', linestyle='dashed')\n",
        "    ax1.plot(w, beta_only, label='beta damping', lw=1, color='black', linestyle='dashdot')\n",
        "    ax1.legend(bbox_to_anchor=(1, 1), loc='upper right', borderaxespad=0, fontsize=16)\n",
        "\n",
        "    # レイアウト設定\n",
        "    fig.tight_layout()\n",
        "\n",
        "    # グラフを表示する。\n",
        "    plt.show()\n",
        "    plt.close()\n",
        "    # ---------------------------------------------------\n",
        "\n",
        "# 固有角振動数を周波数を指定して定義\n",
        "w1 = 2 * np.pi * 10\n",
        "w2 = 2 * np.pi * 1000\n",
        "\n",
        "# 減衰比を設定\n",
        "zeta1 = 0.8\n",
        "zeta2 = 0.005\n",
        "\n",
        "# alpha, betaを計算する関数を実行\n",
        "alpha, beta = generate_rayleigh_damping(w1, w2, zeta1, zeta2)\n",
        "print(alpha, beta)\n",
        "\n",
        "# omegaの範囲を決めてグラフ表示する関数を実行\n",
        "w = np.arange(10, 1000, 1)\n",
        "check_rayleigh_damping(alpha, beta, w)"
      ]
    },
    {
      "cell_type": "markdown",
      "source": [
        "https://watlab-blog.com/2021/02/18/rayleigh-damping/\n"
      ],
      "metadata": {
        "id": "YbVANuXMqn-n"
      }
    }
  ]
}