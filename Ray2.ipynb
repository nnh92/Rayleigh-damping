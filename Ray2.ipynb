{
  "nbformat": 4,
  "nbformat_minor": 0,
  "metadata": {
    "colab": {
      "provenance": [],
      "authorship_tag": "ABX9TyMmP6d3jTDyuyH4JhkfMrP0",
      "include_colab_link": true
    },
    "kernelspec": {
      "name": "python3",
      "display_name": "Python 3"
    },
    "language_info": {
      "name": "python"
    }
  },
  "cells": [
    {
      "cell_type": "markdown",
      "metadata": {
        "id": "view-in-github",
        "colab_type": "text"
      },
      "source": [
        "<a href=\"https://colab.research.google.com/github/nnh92/Rayleigh-damping/blob/main/Ray2.ipynb\" target=\"_parent\"><img src=\"https://colab.research.google.com/assets/colab-badge.svg\" alt=\"Open In Colab\"/></a>"
      ]
    },
    {
      "cell_type": "code",
      "execution_count": null,
      "metadata": {
        "id": "YE2c6Fos3feG"
      },
      "outputs": [],
      "source": [
        "import numpy as np\n",
        "from matplotlib import pyplot as plt\n",
        "\n",
        "# Rayleigh dampingのパラメータを決定する関数\n",
        "def generate_rayleigh_damping(w1, w2, zeta1, zeta2):\n",
        "    alpha = (2 * w1 * w2 * (zeta2 * w1 - zeta1 * w2)) / (w1 ** 2 - w2 ** 2)\n",
        "    beta = (2 * (zeta1 * w1 - zeta2 * w2)) / (w1 ** 2 - w2 ** 2)\n",
        "    return alpha, beta\n",
        "\n",
        "# Rayleigh dampingを描画する関数\n",
        "def check_rayleigh_damping(alpha, beta, w):\n",
        "    zeta = (1 / 2) * ((alpha / w) + (beta * w))\n",
        "    alpha_only = (1 / 2) * alpha / w\n",
        "    beta_only = (1 / 2) * beta * w\n",
        "\n",
        "    # ここからグラフ描画-------------------------------------\n",
        "    # フォントの種類とサイズを設定する。\n",
        "    plt.rcParams['font.size'] = 14\n",
        "    plt.rcParams['font.family'] = 'Times New Roman'\n",
        "\n",
        "    # 目盛を内側にする。\n",
        "    plt.rcParams['xtick.direction'] = 'in'\n",
        "    plt.rcParams['ytick.direction'] = 'in'\n",
        "\n",
        "    # グラフの上下左右に目盛線を付ける。\n",
        "    fig = plt.figure()\n",
        "\n",
        "    ax1 = fig.add_subplot(111)\n",
        "    ax1.yaxis.set_ticks_position('both')\n",
        "    ax1.xaxis.set_ticks_position('both')\n",
        "\n",
        "    # 軸のラベルを設定する。\n",
        "    ax1.set_xlabel('$\\ \\omega$')\n",
        "    ax1.set_ylabel('$\\ \\zeta$')\n",
        "\n",
        "    # スケールの設定をする。\n",
        "    ax1.set_xlim(0, 1000)\n",
        "\n",
        "    # データプロットの準備とともに、ラベルと線の太さ、凡例の設置を行う。\n",
        "    ax1.plot(w, zeta, label='Rayleigh damping', lw=1, color='black')\n",
        "    ax1.plot(w, alpha_only, label='alpha damping', lw=1, color='black', linestyle='dashed')\n",
        "    ax1.plot(w, beta_only, label='beta damping', lw=1, color='black', linestyle='dashdot')\n",
        "    ax1.legend(bbox_to_anchor=(1, 1), loc='upper right', borderaxespad=0, fontsize=16)\n",
        "\n",
        "    # レイアウト設定\n",
        "    fig.tight_layout()\n",
        "\n",
        "    # グラフを表示する。\n",
        "    plt.show()\n",
        "    plt.close()\n",
        "    # ---------------------------------------------------\n",
        "\n",
        "# 固有角振動数を周波数を指定して定義\n",
        "\n",
        "f1 = 0.68357\n",
        "f2 = 20.45229\n",
        "\n",
        "w1 = 1/f1\n",
        "w2 = 1/f2\n",
        "\n",
        "# 減衰比を設定\n",
        "zeta1 = (1 / 2) * ((alpha / w1) + (beta * w1))\n",
        "zeta2 = 0.09921\n",
        "\n",
        "# alpha, betaを計算する関数を実行\n",
        "alpha, beta = generate_rayleigh_damping(w1, w2, zeta1, zeta2)\n",
        "print(alpha, beta)\n",
        "\n",
        "# omegaの範囲を決めてグラフ表示する関数を実行\n",
        "w = np.arange(10, 1000, 1)\n",
        "check_rayleigh_damping(alpha, beta, w)"
      ]
    }
  ]
}